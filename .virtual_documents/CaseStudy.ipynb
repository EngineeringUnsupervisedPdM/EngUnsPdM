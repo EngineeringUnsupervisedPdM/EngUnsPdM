





import pandas as pd
import methods
import evaluation
from matplotlib import pyplot as plt






dfresets=pd.read_csv(f"CaseStudyData/maintenances.csv",index_col=0)

allResets=dfresets.values.flatten()

# known deviating periods unrelated to failures, or periods that we want to ignore for evaluation. 
allingoreindexes=[]
ignoredf=pd.read_csv(f"CaseStudyData/ignoreindexes.csv",index_col=0)
for start,end in zip(ignoredf['start'],ignoredf['end']):
    allingoreindexes.append((start,end))





def episoderesets(episodedf,allResets):
    episoderesets=[]
    for reset in allResets:
        if reset in list(df.index):
            episoderesets.append(reset-episodedf.index[0])
    return episoderesets





predictions=[]
thresholds=[]
indexes=[]
isfailure=[]
for episode in range(1,21):
    if episode<13:
        isfailure.append(1)
    else:
        isfailure.append(0)
    
    df=pd.read_csv(f"CaseStudyData/Episode{episode}.csv",index_col=0)
    
    dfFeats=methods.calculateFeatures(df)
    
    
    #calculate resets for that episode (position of index)
    ep_resets=episoderesets(dfFeats,allResets)
    
    allerrors,allindexes,allthresholds=methods.profileBasedWithResets(dfFeats,ep_resets,metric="euclidean",profileSize=60,factor=6.5,window_ma=30)

    predictions.append(allerrors)
    thresholds.extend(allthresholds)
    indexes.append(allindexes)
    
recall,Precision,fbeta,axes=evaluation.myeval(predictions,thresholds,datesofscores=indexes,PH="210",lead="26",beta=2,isfailure=isfailure,ignoredates=allingoreindexes)
plt.show()
print(f"F2: AD1 {fbeta[0]},AD2 {fbeta[1]},AD3 {fbeta[2]}")
print(f"Recall: AD1 {recall[0]},AD2 {recall[1]},AD3 {recall[2]}")
print(f"Precission: {Precision}")





predictions=[]
thresholds=[]
isfailure=[]
indexes=[]
for episode in range(1,21):
    if episode<13:
        isfailure.append(1)
    else:
        isfailure.append(0)
    
    episodedf=pd.read_csv(f"CaseStudyData/Episode{episode}.csv",index_col=0)
    episodedf = episodedf.sub(episodedf.min(axis=1), axis=0).div(episodedf.max(axis=1) - episodedf.min(axis=1), axis=0)

    # horizontal normalization
    
    anomalyscores,threshold=methods.profileBased(episodedf,metric="cc",profileSize=100,factor=6.5,window_ma=30)
    predictions.append(anomalyscores)
    thresholds.append(threshold)
    indexes.append(list(episodedf.index[-len(anomalyscores):]))


recall,Precision,fbeta,axes=evaluation.myeval(predictions,thresholds,datesofscores=indexes,PH="210",lead="26",beta=2,isfailure=isfailure,ignoredates=allingoreindexes)
plt.show()
print(f"F2: AD1 {fbeta[0]},AD2 {fbeta[1]},AD3 {fbeta[2]}")
print(f"Recall: AD1 {recall[0]},AD2 {recall[1]},AD3 {recall[2]}")
print(f"Precission: {Precision}")
